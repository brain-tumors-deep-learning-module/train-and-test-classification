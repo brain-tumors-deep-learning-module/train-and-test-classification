{
 "cells": [
  {
   "cell_type": "code",
   "execution_count": 2,
   "metadata": {},
   "outputs": [],
   "source": [
    "import numpy as np\n",
    "import cv2\n",
    "import pydicom\n",
    "import matplotlib.pyplot as plt"
   ]
  },
  {
   "cell_type": "code",
   "execution_count": 3,
   "metadata": {},
   "outputs": [],
   "source": [
    "path_to_file = '/media/omar/New Volume/TCIA Data/GBM/Data/TCGA-GBM/TCGA-02-0006/08-23-1996-MRI BRAIN W WO CONTRAMR-42545/5-AX T1-62419/000007.dcm'\n",
    "ds = pydicom.dcmread(path_to_file)\n",
    "dcm_sample=ds.pixel_array*128\n",
    "# im = ds.pixel_array\n",
    "cv2.imshow('sample image dicom',dcm_sample)\n",
    "cv2.waitkey()\n",
    "# imgray = cv2.cvtColor(im, cv2.COLOR_BGR2GRAY)\n",
    "\n",
    "# ret, thresh = cv2.threshold(im, 255, 255, 0)\n",
    "# im2, contours, hierarchy = cv2.findContours(thresh, cv2.RETR_TREE, cv2.CHAIN_APPROX_SIMPLE)"
   ]
  },
  {
   "cell_type": "code",
   "execution_count": null,
   "metadata": {},
   "outputs": [],
   "source": []
  }
 ],
 "metadata": {
  "kernelspec": {
   "display_name": "Python 3",
   "language": "python",
   "name": "python3"
  }
 },
 "nbformat": 4,
 "nbformat_minor": 2
}
